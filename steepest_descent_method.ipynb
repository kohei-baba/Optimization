{
 "cells": [
  {
   "cell_type": "markdown",
   "metadata": {},
   "source": [
    "# random generation of a objective function"
   ]
  },
  {
   "cell_type": "code",
   "execution_count": 1,
   "metadata": {},
   "outputs": [],
   "source": [
    "import numpy as np\n",
    "import matplotlib.pyplot as plt\n",
    "import math\n",
    "\n",
    "np.random.seed(seed=0)\n",
    "m = 4\n",
    "n = 6\n",
    "A = np.random.rand(m,n)\n",
    "b = np.random.rand(m,1)\n",
    "\n",
    "lam = 0\n",
    "B = lam*np.eye(n)+A.T@A\n",
    "la, _ = np.linalg.eig(B)\n",
    "L = 2*np.max(np.abs(la))\n",
    "w_opt = np.linalg.solve(B, A.T@b)\n",
    "\n",
    "def f(w):\n",
    "  return np.linalg.norm(b-A@w, ord=2)**2 + lam*np.linalg.norm(w, ord=2)**2\n",
    "\n",
    "def df(w):\n",
    "  return -2*A.T@(b-A@w) + 2*lam*w\n",
    "\n",
    "w0 = np.random.rand(n,1)\n"
   ]
  },
  {
   "cell_type": "markdown",
   "metadata": {},
   "source": [
    "# steepest descent method(stepsize=1/L)"
   ]
  },
  {
   "cell_type": "code",
   "execution_count": null,
   "metadata": {},
   "outputs": [],
   "source": [
    "w = w0\n",
    "epsilon = 10**(-6)\n",
    "t = []\n",
    "f_list = []\n",
    "k = 1\n",
    "while np.linalg.norm(df(w),ord=2) >= epsilon:\n",
    "  w = w - 1/L*df(w)\n",
    "  t.append(k)\n",
    "  f_list.append(f(w))\n",
    "  k += 1\n",
    "plt.plot(t,f_list)\n",
    "plt.title('steepest descent method: λ={}'.format(lam))\n",
    "plt.xlabel('k')\n",
    "plt.ylabel('f(w_k)')\n",
    "plt.show()\n",
    "\n",
    "\n",
    "f_gap = list(map(lambda x:math.log(x-f(w_opt)),f_list))\n",
    "plt.scatter(t,f_gap,s=2)\n",
    "plt.title('steepest descent method: λ={}'.format(lam))\n",
    "plt.xlabel('k')\n",
    "plt.ylabel('log(f(w_k)-f(w*))')\n",
    "\n",
    "from pylab import *\n",
    "from scipy import stats\n",
    "slope, intercept, r_value, p_value, std_err = \\\n",
    "stats.linregress(t, f_gap)\n",
    "\n",
    "print(\"傾き：{0}\\n切片：{1}\\n相関係数：{2}\\nP値：{3}\\n\\\n",
    "標準誤差：{4}\".format(slope,intercept, r_value, p_value,std_err))\n",
    "plt.text(5, -25, \"slope:{}\".format(round(slope,3)), fontsize=\"xx-large\")\n",
    "\n",
    "fitline  = list(map(lambda x:slope * x + intercept,t))\n",
    "plt.plot(t, fitline, c='r')\n",
    "plt.show()"
   ]
  },
  {
   "cell_type": "markdown",
   "metadata": {},
   "source": [
    "# Armijo rule+back tracking method"
   ]
  },
  {
   "cell_type": "code",
   "execution_count": null,
   "metadata": {},
   "outputs": [],
   "source": [
    "w = w0\n",
    "\n",
    "alpha_0 = 1\n",
    "xi = 10**(-3)\n",
    "tau = 0.5\n",
    "\n",
    "epsilon = 10**(-6)\n",
    "t = []\n",
    "f_list = []\n",
    "k = 1\n",
    "\n",
    "while np.linalg.norm(df(w),ord=2) >= epsilon:\n",
    "  d = -df(w)\n",
    "  l = 0\n",
    "  while f(w+alpha_0*(tau**l)*d) > f(w) - xi*alpha_0*(tau**l)*np.linalg.norm(d, ord=2)**2:\n",
    "    l += 1\n",
    "  t.append(k)\n",
    "  f_list.append(f(w+alpha_0*tau**l*d))\n",
    "  w = w+alpha_0*tau**l*d\n",
    "  k += 1\n",
    "plt.plot(t,f_list)\n",
    "plt.title('Armijo rule: λ={}'.format(lam))\n",
    "plt.xlabel('k')\n",
    "plt.ylabel('f(w_k)')\n",
    "plt.show()\n",
    "\n",
    "f_gap = list(map(lambda x:math.log(x-f(w_opt)),f_list))\n",
    "plt.scatter(t,f_gap,s=1)\n",
    "plt.title('Armijo rule: λ={}'.format(lam))\n",
    "plt.xlabel('k')\n",
    "plt.ylabel('log(f(w_k)-f(w*))')\n",
    "\n",
    "from pylab import *\n",
    "from scipy import stats\n",
    "slope, intercept, r_value, p_value, std_err = \\\n",
    "stats.linregress(t, f_gap)\n",
    "\n",
    "print(\"傾き：{0}\\n切片：{1}\\n相関係数：{2}\\nP値：{3}\\n\\\n",
    "標準誤差：{4}\".format(slope,intercept, r_value, p_value,std_err))\n",
    "plt.text(5, -25, \"slope:{}\".format(round(slope,3)), fontsize=\"xx-large\")\n",
    "\n",
    "fitline  = list(map(lambda x:slope * x + intercept,t))\n",
    "plt.plot(t, fitline, c='r')\n",
    "plt.show()"
   ]
  },
  {
   "cell_type": "markdown",
   "metadata": {},
   "source": [
    "# Nesterov's accelerated gradient algorithm"
   ]
  },
  {
   "cell_type": "code",
   "execution_count": null,
   "metadata": {},
   "outputs": [],
   "source": [
    "w = w0\n",
    "\n",
    "epsilon = 10**(-6)\n",
    "t = []\n",
    "f_list = []\n",
    "w_list = [w]\n",
    "k = 1\n",
    "while np.linalg.norm(df(w),ord=2) >= epsilon:\n",
    "  w_list.append(w)\n",
    "  alpha_k = 1/L\n",
    "  beta_k = k/(k+3)\n",
    "  yk = w + beta_k*(w_list[k] - w_list[k-1])\n",
    "  w = yk - alpha_k*df(yk)\n",
    "  t.append(k)\n",
    "  f_list.append(f(w))\n",
    "  k += 1\n",
    "plt.plot(t,f_list)\n",
    "plt.title('Nesterov\\'s accelerated gradient algo: λ={}'.format(lam))\n",
    "plt.xlabel('k')\n",
    "plt.ylabel('f(w_k)')\n",
    "plt.show()\n",
    "\n",
    "f_gap = list(map(lambda x:math.log(x-f(w_opt)),f_list))\n",
    "plt.scatter(t,f_gap,s=0.1)\n",
    "plt.title('Nesterov\\'s accelerated gradient algo: λ={}'.format(lam))\n",
    "plt.xlabel('k')\n",
    "plt.ylabel('log(f(w_k)-f(w*))')\n",
    "from pylab import *\n",
    "from scipy import stats\n",
    "slope, intercept, r_value, p_value, std_err = \\\n",
    "stats.linregress(t, f_gap)\n",
    "\n",
    "print(\"傾き：{0}\\n切片：{1}\\n相関係数：{2}\\nP値：{3}\\n\\\n",
    "標準誤差：{4}\".format(slope,intercept, r_value, p_value,std_err))\n",
    "plt.text(5, -25, \"slope:{}\".format(round(slope,3)), fontsize=\"xx-large\")\n",
    "\n",
    "fitline  = list(map(lambda x:slope * x + intercept,t))\n",
    "plt.plot(t, fitline, c='r')\n",
    "plt.show()"
   ]
  }
 ],
 "metadata": {
  "kernelspec": {
   "display_name": "Python 3",
   "language": "python",
   "name": "python3"
  },
  "language_info": {
   "codemirror_mode": {
    "name": "ipython",
    "version": 3
   },
   "file_extension": ".py",
   "mimetype": "text/x-python",
   "name": "python",
   "nbconvert_exporter": "python",
   "pygments_lexer": "ipython3",
   "version": "3.7.6"
  }
 },
 "nbformat": 4,
 "nbformat_minor": 5
}
